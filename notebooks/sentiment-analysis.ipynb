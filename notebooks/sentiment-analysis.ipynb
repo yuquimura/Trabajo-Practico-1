{
 "cells": [
  {
   "cell_type": "markdown",
   "metadata": {},
   "source": [
    "# Análisis de Sentimientos\n",
    "\n",
    "Realizaremos un análisis de sentimientos simple sobre la columna `text` de los tweets para analizar tres cuestiones:\n",
    "\n",
    "* Polaridad: Es un valor comprendido en el intervalo `[1, 1]` que indica qué tan negativo o positivo es un texto.\n",
    "* Subjetividad: Es un valor comprendido en el intervalo `[0, 1]` que indica qué tan subjetivo u objetivo resulta el texto de un tweet.\n",
    "* Sentimiento: Asignaremos un label positivo/negativo/neutral de acuerdo a la polaridad del texto.\n",
    "\n",
    "Y ver si estas se relacionan con el target de los tweets.\n",
    "\n",
    "Para esto utilizaremos dos herramientas:\n",
    "\n",
    "* TextBlob: Será utilizada para obtener un puntaje de subjetividad.\n",
    "* VADER: Será utilizada para obtener la polaridad del tweet y en base a este valor asignar los labels correspondientes.\n",
    "\n",
    "Si bien TextBlob provee una forma de obtener un valor para la polaridad de un texto, luego de investigar sobre otras opciones nos topamos con VADER, que presenta muy buenos resultados a la hora de analizar contenido de redes sociales.\n",
    "\n",
    "En particular nos interesó que pudiera tener en consideración cuestiones como el énfasis que agregan ciertos signos de puntuación (como `!`) así como también el uso de mayúsculas e incluso emojis!\n",
    "\n",
    "Por lo tanto decidimos no quitar signos de puntuación, ni emojis, así como tampoco modificar mayúsculas/minúsculas ya que estos agregan valor al contexto del tweet.\n",
    "\n",
    "Finalmente, el preprocesamiento del texto consistirá en remover:\n",
    "\n",
    "* URLs.\n",
    "* Menciones a usuarios: Los nombres de usuarios podrían generar ruido.\n",
    "* El # precedente a un hashtag propiamente dicho.\n",
    "\n",
    "Citamos a continuación el paper sobre el que está basado el módulo VADER:\n",
    "\n",
    "> Hutto, C.J. & Gilbert, E.E. (2014). VADER: A Parsimonious Rule-based Model for Sentiment Analysis of Social Media Text. Eighth International Conference on Weblogs and Social Media (ICWSM-14). Ann Arbor, MI, June 2014."
   ]
  },
  {
   "cell_type": "markdown",
   "metadata": {},
   "source": [
    "# Preprocesamiento"
   ]
  },
  {
   "cell_type": "code",
   "execution_count": 1,
   "metadata": {},
   "outputs": [
    {
     "name": "stderr",
     "output_type": "stream",
     "text": [
      "[nltk_data] Downloading package vader_lexicon to\n",
      "[nltk_data]     /home/ndv/nltk_data...\n",
      "[nltk_data]   Package vader_lexicon is already up-to-date!\n"
     ]
    }
   ],
   "source": [
    "import pandas as pd\n",
    "pd.set_option('max_colwidth', -1)\n",
    "import nltk\n",
    "nltk.download('vader_lexicon')\n",
    "from textblob import TextBlob\n",
    "import matplotlib.pyplot as plt\n",
    "import seaborn as sns\n",
    "from nltk.sentiment.vader import SentimentIntensityAnalyzer\n",
    "analyzer = SentimentIntensityAnalyzer()\n",
    "sns.set()"
   ]
  },
  {
   "cell_type": "code",
   "execution_count": 2,
   "metadata": {},
   "outputs": [],
   "source": [
    "df = pd.read_csv('../dataset/train.csv', usecols=['text', 'target'], encoding='utf-8-sig')"
   ]
  },
  {
   "cell_type": "code",
   "execution_count": 3,
   "metadata": {},
   "outputs": [],
   "source": [
    "# Quitamos las urls\n",
    "df['text'] = df['text'].str.replace(r'http:\\/\\/.*', '', regex=True).replace(r'https:\\/\\/.*', '', regex=True)\n",
    "\n",
    "# Quitamos user mentions y el símbolo del hashtag.\n",
    "def clean_text(text):\n",
    "    words = text.split(' ')\n",
    "    text = ' '.join([word for word in words if not word.startswith('@')])\n",
    "    text = text.replace('#', '')\n",
    "    return text\n",
    "\n",
    "df['text'] = df['text'].apply(clean_text)"
   ]
  },
  {
   "cell_type": "code",
   "execution_count": 4,
   "metadata": {},
   "outputs": [
    {
     "data": {
      "text/html": [
       "<div>\n",
       "<style scoped>\n",
       "    .dataframe tbody tr th:only-of-type {\n",
       "        vertical-align: middle;\n",
       "    }\n",
       "\n",
       "    .dataframe tbody tr th {\n",
       "        vertical-align: top;\n",
       "    }\n",
       "\n",
       "    .dataframe thead th {\n",
       "        text-align: right;\n",
       "    }\n",
       "</style>\n",
       "<table border=\"1\" class=\"dataframe\">\n",
       "  <thead>\n",
       "    <tr style=\"text-align: right;\">\n",
       "      <th></th>\n",
       "      <th>text</th>\n",
       "      <th>target</th>\n",
       "      <th>sentiment</th>\n",
       "      <th>subjectivity</th>\n",
       "      <th>polarity</th>\n",
       "    </tr>\n",
       "  </thead>\n",
       "  <tbody>\n",
       "    <tr>\n",
       "      <td>0</td>\n",
       "      <td>Our Deeds are the Reason of this earthquake May ALLAH Forgive us all</td>\n",
       "      <td>1</td>\n",
       "      <td>pos</td>\n",
       "      <td>0.0000</td>\n",
       "      <td>0.2732</td>\n",
       "    </tr>\n",
       "    <tr>\n",
       "      <td>1</td>\n",
       "      <td>Forest fire near La Ronge Sask. Canada</td>\n",
       "      <td>1</td>\n",
       "      <td>neg</td>\n",
       "      <td>0.4000</td>\n",
       "      <td>-0.3400</td>\n",
       "    </tr>\n",
       "    <tr>\n",
       "      <td>2</td>\n",
       "      <td>All residents asked to 'shelter in place' are being notified by officers. No other evacuation or shelter in place orders are expected</td>\n",
       "      <td>1</td>\n",
       "      <td>neg</td>\n",
       "      <td>0.3875</td>\n",
       "      <td>-0.2960</td>\n",
       "    </tr>\n",
       "    <tr>\n",
       "      <td>3</td>\n",
       "      <td>13,000 people receive wildfires evacuation orders in California</td>\n",
       "      <td>1</td>\n",
       "      <td>neu</td>\n",
       "      <td>0.0000</td>\n",
       "      <td>0.0000</td>\n",
       "    </tr>\n",
       "    <tr>\n",
       "      <td>4</td>\n",
       "      <td>Just got sent this photo from Ruby Alaska as smoke from wildfires pours into a school</td>\n",
       "      <td>1</td>\n",
       "      <td>neu</td>\n",
       "      <td>0.0000</td>\n",
       "      <td>0.0000</td>\n",
       "    </tr>\n",
       "  </tbody>\n",
       "</table>\n",
       "</div>"
      ],
      "text/plain": [
       "                                                                                                                                    text  \\\n",
       "0  Our Deeds are the Reason of this earthquake May ALLAH Forgive us all                                                                    \n",
       "1  Forest fire near La Ronge Sask. Canada                                                                                                  \n",
       "2  All residents asked to 'shelter in place' are being notified by officers. No other evacuation or shelter in place orders are expected   \n",
       "3  13,000 people receive wildfires evacuation orders in California                                                                         \n",
       "4  Just got sent this photo from Ruby Alaska as smoke from wildfires pours into a school                                                   \n",
       "\n",
       "   target sentiment  subjectivity  polarity  \n",
       "0  1       pos       0.0000        0.2732    \n",
       "1  1       neg       0.4000       -0.3400    \n",
       "2  1       neg       0.3875       -0.2960    \n",
       "3  1       neu       0.0000        0.0000    \n",
       "4  1       neu       0.0000        0.0000    "
      ]
     },
     "execution_count": 4,
     "metadata": {},
     "output_type": "execute_result"
    }
   ],
   "source": [
    "# Este valor fue tomado del repositorio del módulo VADER.\n",
    "POLARITY_TRESHOLD = 0.05\n",
    "\n",
    "def obtain_sentiment(text):\n",
    "    scores = analyzer.polarity_scores(text)\n",
    "    \n",
    "    sentiment = 'neu'\n",
    "    if scores['compound'] >= POLARITY_TRESHOLD:\n",
    "        sentiment = 'pos'\n",
    "    if scores['compound'] <= -POLARITY_TRESHOLD:\n",
    "        sentiment = 'neg'\n",
    "    \n",
    "    text_blob = TextBlob(text)\n",
    "    subjectivity = text_blob.sentiment.subjectivity\n",
    "    \n",
    "    return sentiment, subjectivity, scores['compound']\n",
    "\n",
    "df['sentiment'], df['subjectivity'], df['polarity'] = zip(*df['text'].apply(obtain_sentiment))\n",
    "df.head()"
   ]
  },
  {
   "cell_type": "markdown",
   "metadata": {},
   "source": [
    "# Análisis\n",
    "\n",
    "Finalmente obtuvimos valores para la subjetividad, polaridad y una clasificación del sentimiento asociado al tweet.\n",
    "En esta seacción analizaremos cada una de estas variables respecto al target asociado al tweet.\n",
    "\n",
    "### Polaridad\n",
    "\n",
    "En primer lugar exploremos la polaridad de los tweets y la clasificación del sentimiento de cada uno, en particular nos interesa ver la distribución por clase de la polaridad.\n",
    "\n",
    "Veamos cómo se distribuye la polaridad sobre el total de los tweets."
   ]
  },
  {
   "cell_type": "code",
   "execution_count": 5,
   "metadata": {},
   "outputs": [
    {
     "data": {
      "text/plain": [
       "count    7613.000000\n",
       "mean    -0.144799   \n",
       "std      0.454943   \n",
       "min     -0.988300   \n",
       "25%     -0.539900   \n",
       "50%      0.000000   \n",
       "75%      0.025800   \n",
       "max      0.973000   \n",
       "Name: polarity, dtype: float64"
      ]
     },
     "execution_count": 5,
     "metadata": {},
     "output_type": "execute_result"
    }
   ],
   "source": [
    "df['polarity'].describe()"
   ]
  },
  {
   "cell_type": "code",
   "execution_count": 6,
   "metadata": {},
   "outputs": [
    {
     "data": {
      "image/png": "[encoded data removed]",
      "text/plain": [
       "<Figure size 720x432 with 1 Axes>"
      ]
     },
     "metadata": {
      "needs_background": "light"
     },
     "output_type": "display_data"
    }
   ],
   "source": [
    "plt.figure(figsize=(10,6))\n",
    "ax = sns.distplot(df['polarity'], kde=False, color='purple')\n",
    "plt.title(\"Distribución de la polaridad\", fontsize=15)\n",
    "plt.ylabel('tweets')\n",
    "plt.savefig('sentiment_img/polarity_dist.png')\n",
    "plt.show()"
   ]
  },
  {
   "cell_type": "markdown",
   "metadata": {},
   "source": [
    "Notamos que hay una gran cantidad de tweets que toman un valor de polaridad cercano a 0. \n",
    "\n",
    "De todos modos esto no implica que la mayoría de los tweets sean de connotación neutral, ya que decidimos considerar como neutrales sólo a aquellos que tengan un valor de polaridad perteneciente al intervalo (-0.05, 0.05).\n",
    "\n",
    "De hecho, lo que observamos es que pareciera ser que la mayor parte de los tweets tienen una polaridad negativa."
   ]
  },
  {
   "cell_type": "markdown",
   "metadata": {},
   "source": [
    "Ahora sí veamos la distribución de la polaridad en relación al target. "
   ]
  },
  {
   "cell_type": "code",
   "execution_count": 7,
   "metadata": {},
   "outputs": [
    {
     "data": {
      "image/png": "[encoded data removed]",
      "text/plain": [
       "<Figure size 576x432 with 1 Axes>"
      ]
     },
     "metadata": {
      "needs_background": "light"
     },
     "output_type": "display_data"
    }
   ],
   "source": [
    "plt.figure(figsize=(8,6))\n",
    "ax = sns.boxenplot(data=df, x='target', y='polarity', palette='Set2')\n",
    "plt.title(\"Distribución de la polaridad de acuerdo al Target correspondiente\", fontsize=15)\n",
    "plt.savefig('sentiment_img/polarity_dist_per_target.png')\n",
    "plt.show()"
   ]
  },
  {
   "cell_type": "markdown",
   "metadata": {},
   "source": [
    "Nos hemos topado con algunos resultados interesantes:\n",
    "\n",
    "* La media de los tweets Reales (target == 1) es apenas menor a -0.25 mientras que para los tweets Falsos vale 0.\n",
    "* En ambos casos se observa que la polaridad suele ser negativa.\n",
    "* En particular, notamos a simple vista que los tweets Reales presentan una polaridad más negativa que los tweets Falsos.\n",
    "\n",
    "Este último item podría ser útil a la hora de entrenar un modelo para clasificar tweets posteriormente."
   ]
  },
  {
   "cell_type": "markdown",
   "metadata": {},
   "source": [
    "### Subjetividad\n",
    "\n",
    "Ahora realicemos un análisis similar para la subjetividad de los tweets."
   ]
  },
  {
   "cell_type": "code",
   "execution_count": 8,
   "metadata": {},
   "outputs": [
    {
     "data": {
      "text/plain": [
       "count    7613.000000\n",
       "mean     0.295954   \n",
       "std      0.327170   \n",
       "min      0.000000   \n",
       "25%      0.000000   \n",
       "50%      0.200000   \n",
       "75%      0.533333   \n",
       "max      1.000000   \n",
       "Name: subjectivity, dtype: float64"
      ]
     },
     "execution_count": 8,
     "metadata": {},
     "output_type": "execute_result"
    }
   ],
   "source": [
    "df['subjectivity'].describe()"
   ]
  },
  {
   "cell_type": "code",
   "execution_count": 9,
   "metadata": {},
   "outputs": [
    {
     "data": {
      "image/png": "[encoded data removed]",
      "text/plain": [
       "<Figure size 720x432 with 1 Axes>"
      ]
     },
     "metadata": {
      "needs_background": "light"
     },
     "output_type": "display_data"
    }
   ],
   "source": [
    "plt.figure(figsize=(10,6))\n",
    "sns.distplot(df['subjectivity'], kde=False, color='purple')\n",
    "plt.title(\"Distribución de la subjetividad\", fontsize=15)\n",
    "plt.ylabel('tweets')\n",
    "plt.savefig('sentiment_img/subjectivity_dist.png')\n",
    "plt.show()"
   ]
  },
  {
   "cell_type": "markdown",
   "metadata": {},
   "source": [
    "En este caso notamos que una gran parte de los tweets parece tener una baja subjetividad.\n",
    "\n",
    "Veamos ahora la distribución de la misma según el target."
   ]
  },
  {
   "cell_type": "code",
   "execution_count": 10,
   "metadata": {},
   "outputs": [
    {
     "data": {
      "image/png": "[encoded data removed]",
      "text/plain": [
       "<Figure size 576x432 with 1 Axes>"
      ]
     },
     "metadata": {
      "needs_background": "light"
     },
     "output_type": "display_data"
    }
   ],
   "source": [
    "plt.figure(figsize=(8,6))\n",
    "sns.boxenplot(data=df, x='target', y='subjectivity', palette='Set2')\n",
    "plt.title(\"Distribución de la subjetividad de acuerdo al Target correspondiente\", fontsize=15)\n",
    "plt.savefig('sentiment_img/subjectivity_dist_per_target.png')\n",
    "plt.show()"
   ]
  },
  {
   "cell_type": "markdown",
   "metadata": {},
   "source": [
    "De esta visualización podemos notar que:\n",
    "\n",
    "* Las medias nuevamente difieren, en el caso de los tweets Reales esta es menor.\n",
    "* El 75% de los tweets Reales está por debajo del valor 0.5.\n",
    "* El 75% de los tweets Falsos esta por debajo del valor 0.6.\n",
    "\n",
    "Concluímos que la mayor parte de los tweets, independientemente de su clase, son poco _subjetivos_. Por lo tanto no creemos que esta variable pueda ser útil para la clasificación de tweets."
   ]
  },
  {
   "cell_type": "markdown",
   "metadata": {},
   "source": [
    "### Sentimiento\n",
    "\n",
    "Finalmente veamos cómo han quedado asignados los labels relacionados al sentimiento de los tweets.\n",
    "\n",
    "Recordemos que estos son:\n",
    "\n",
    "* Positivo: si la polaridad >= 0.05.\n",
    "* Negativo: si la polaridad es <= a -0.05.\n",
    "* Neutral: si la polaridad está entre -0.05 y 0.05."
   ]
  },
  {
   "cell_type": "code",
   "execution_count": 11,
   "metadata": {},
   "outputs": [
    {
     "data": {
      "text/plain": [
       "neg    0.479968\n",
       "neu    0.272297\n",
       "pos    0.247734\n",
       "Name: sentiment, dtype: float64"
      ]
     },
     "execution_count": 11,
     "metadata": {},
     "output_type": "execute_result"
    }
   ],
   "source": [
    "df['sentiment'].value_counts(normalize=True)"
   ]
  },
  {
   "cell_type": "code",
   "execution_count": 12,
   "metadata": {},
   "outputs": [
    {
     "data": {
      "image/png": "[encoded data removed]",
      "text/plain": [
       "<Figure size 720x432 with 1 Axes>"
      ]
     },
     "metadata": {
      "needs_background": "light"
     },
     "output_type": "display_data"
    }
   ],
   "source": [
    "plt.figure(figsize=(10,6))\n",
    "sns.countplot(data=df, x='sentiment', hue='target', palette=\"Set2\")\n",
    "plt.title('Comparación de Sentimiento agrupado por Target', fontsize=15)\n",
    "plt.ylabel('tweets')\n",
    "plt.savefig('sentiment_img/sentiment_per_target.png')\n",
    "plt.show()"
   ]
  },
  {
   "cell_type": "markdown",
   "metadata": {},
   "source": [
    "A partir de esta visualización, observamos que:\n",
    "\n",
    "* Los tweets clasificados como Negativos son mayoría, como observamos anteriormente en el análisis sobre la polaridad de los tweets.\n",
    "* La cantidad de tweets Negativos es pareja entre las clases.\n",
    "* La cantidad de tweets Positivos presenta una amplia brecha entre las clases. Esto fue observado anteriormente en el estudio de la polaridad, donde notamos que los tweets Reales tendían a ser más negativos que los Falsos."
   ]
  },
  {
   "cell_type": "code",
   "execution_count": null,
   "metadata": {},
   "outputs": [],
   "source": []
  }
 ],
 "metadata": {
  "kernelspec": {
   "display_name": "Python 3",
   "language": "python",
   "name": "python3"
  },
  "language_info": {
   "codemirror_mode": {
    "name": "ipython",
    "version": 3
   },
   "file_extension": ".py",
   "mimetype": "text/x-python",
   "name": "python",
   "nbconvert_exporter": "python",
   "pygments_lexer": "ipython3",
   "version": "3.7.4"
  }
 },
 "nbformat": 4,
 "nbformat_minor": 4
}
