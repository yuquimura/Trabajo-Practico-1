{
 "cells": [
  {
   "cell_type": "code",
   "execution_count": null,
   "metadata": {},
   "outputs": [],
   "source": [
    "import pandas as pd\n",
    "import matplotlib.pyplot as plt\n",
    "import seaborn as sns\n",
    "\n",
    "sns.set()\n",
    "\n",
    "%matplotlib inline"
   ]
  },
  {
   "cell_type": "code",
   "execution_count": null,
   "metadata": {},
   "outputs": [],
   "source": [
    "data = pd.read_csv(\"../dataset/train.csv\", index_col=0)\n",
    "data"
   ]
  },
  {
   "cell_type": "code",
   "execution_count": null,
   "metadata": {},
   "outputs": [],
   "source": [
    "data['keyword'].describe()"
   ]
  },
  {
   "cell_type": "code",
   "execution_count": null,
   "metadata": {},
   "outputs": [],
   "source": [
    "data['location'].describe()"
   ]
  },
  {
   "cell_type": "code",
   "execution_count": null,
   "metadata": {},
   "outputs": [],
   "source": [
    "data['text'].describe()"
   ]
  },
  {
   "cell_type": "code",
   "execution_count": null,
   "metadata": {},
   "outputs": [],
   "source": [
    "data['target'].describe()"
   ]
  },
  {
   "cell_type": "code",
   "execution_count": null,
   "metadata": {},
   "outputs": [],
   "source": [
    "target_counts = data['target'].value_counts()\n",
    "target_counts"
   ]
  },
  {
   "cell_type": "code",
   "execution_count": null,
   "metadata": {},
   "outputs": [],
   "source": [
    "fig1, ax1 = plt.subplots(figsize=(8, 8))\n",
    "fig1.suptitle('Valor de target', fontsize=25)\n",
    "ax1.pie(target_counts, labels=['0', '1'], autopct='%1.1f%%',\n",
    "        startangle=90, textprops={'fontsize': 16})\n",
    "plt.savefig('target-value.png')\n",
    "plt.show()"
   ]
  },
  {
   "cell_type": "markdown",
   "metadata": {},
   "source": [
    "### Datos vs NaNs"
   ]
  },
  {
   "cell_type": "code",
   "execution_count": null,
   "metadata": {},
   "outputs": [],
   "source": [
    "rows_count = len(data)\n",
    "\n",
    "keyword_na_count = data['keyword'].isna().sum()\n",
    "keyword_data_count = rows_count - keyword_na_count\n",
    "\n",
    "location_na_count = data['location'].isna().sum()\n",
    "location_data_count = rows_count - location_na_count\n",
    "\n",
    "text_na_count = data['text'].isna().sum()\n",
    "text_data_count = rows_count - text_na_count\n",
    "\n",
    "target_na_count = data['target'].isna().sum()\n",
    "target_data_count = rows_count - target_na_count"
   ]
  },
  {
   "cell_type": "code",
   "execution_count": null,
   "metadata": {},
   "outputs": [],
   "source": [
    "fig, ax = plt.subplots(2, 2, figsize=(12, 12))\n",
    "fig.suptitle('Dato vs Nan', fontsize=25)\n",
    "\n",
    "ax[0, 0].pie([keyword_data_count, keyword_na_count], labels=['data', 'nan'], autopct='%1.1f%%',\n",
    "        startangle=0, textprops={'fontsize': 16})\n",
    "ax[0, 0].set_title('keyword', fontsize=16)\n",
    "\n",
    "ax[0, 1].pie([location_data_count, location_na_count], labels=['data', 'nan'], autopct='%1.1f%%',\n",
    "        startangle=0, textprops={'fontsize': 16})\n",
    "ax[0, 1].set_title('location', fontsize=16)\n",
    "\n",
    "ax[1, 0].pie([text_data_count, text_na_count], labels=['data', 'nan'], autopct='%1.1f%%',\n",
    "        startangle=0, textprops={'fontsize': 16})\n",
    "ax[1, 0].set_title('text', fontsize=16)\n",
    "\n",
    "ax[1, 1].pie([target_data_count, target_na_count], labels=['data', 'nan'], autopct='%1.1f%%',\n",
    "        startangle=0, textprops={'fontsize': 16})\n",
    "ax[1, 1].set_title('target', fontsize=16)\n",
    "\n",
    "fig.tight_layout(pad=3.0)\n",
    "plt.subplots_adjust(wspace=0.02, hspace=0.1)\n",
    "\n",
    "plt.savefig('data-vs-nan.png')\n",
    "plt.show()"
   ]
  }
 ],
 "metadata": {
  "kernelspec": {
   "display_name": "Python3-venv",
   "language": "python",
   "name": "python3-venv"
  },
  "language_info": {
   "codemirror_mode": {
    "name": "ipython",
    "version": 3
   },
   "file_extension": ".py",
   "mimetype": "text/x-python",
   "name": "python",
   "nbconvert_exporter": "python",
   "pygments_lexer": "ipython3",
   "version": "3.6.9"
  }
 },
 "nbformat": 4,
 "nbformat_minor": 4
}
