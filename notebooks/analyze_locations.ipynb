{
 "cells": [
  {
   "cell_type": "code",
   "execution_count": null,
   "metadata": {},
   "outputs": [],
   "source": [
    "import pandas as pd\n",
    "import matplotlib.pyplot as plt\n",
    "import matplotlib.colors as colors\n",
    "import geopandas as gpd\n",
    "import seaborn as sns\n",
    "\n",
    "sns.set()\n",
    "\n",
    "%matplotlib inline"
   ]
  },
  {
   "cell_type": "code",
   "execution_count": null,
   "metadata": {},
   "outputs": [],
   "source": [
    "data = pd.read_csv('../dataset/geo.csv', index_col=0)\n",
    "data"
   ]
  },
  {
   "cell_type": "markdown",
   "metadata": {},
   "source": [
    "Descartamos los de score menor a 90"
   ]
  },
  {
   "cell_type": "code",
   "execution_count": null,
   "metadata": {},
   "outputs": [],
   "source": [
    "data = data[data['match_score'] >= 90]\n",
    "data"
   ]
  },
  {
   "cell_type": "code",
   "execution_count": null,
   "metadata": {},
   "outputs": [],
   "source": [
    "import math\n",
    "countries = data['country'].value_counts()\n",
    "countries = countries.to_frame().reset_index()\n",
    "countries = countries.rename(columns={'index': 'country', 'country': 'tweets'})\n",
    "countries"
   ]
  },
  {
   "cell_type": "code",
   "execution_count": null,
   "metadata": {},
   "outputs": [],
   "source": [
    "main_countries = countries[:7]\n",
    "main_countries = main_countries.append({'country': 'OTHERS', 'tweets': countries.loc[7:, 'tweets'].sum()}, ignore_index=True)\n",
    "main_countries"
   ]
  },
  {
   "cell_type": "code",
   "execution_count": null,
   "metadata": {},
   "outputs": [],
   "source": [
    "plt.style.use('Solarize_Light2')\n",
    "fig1, ax1 = plt.subplots(figsize=(12, 12))\n",
    "fig1.suptitle('Tweets with location by country', fontsize=25)\n",
    "ax1.pie(main_countries['tweets'], labels=main_countries['country'], autopct='%1.1f%%',\n",
    "        startangle=90, textprops={'fontsize': 16})\n",
    "plt.savefig('tweets-with-location-by-country.png')\n",
    "plt.show()"
   ]
  },
  {
   "cell_type": "code",
   "execution_count": null,
   "metadata": {},
   "outputs": [],
   "source": [
    "cities = data['city'].value_counts()\n",
    "cities"
   ]
  },
  {
   "cell_type": "code",
   "execution_count": null,
   "metadata": {},
   "outputs": [],
   "source": [
    "main_cities = cities.head(8)\n",
    "\n",
    "plt.style.use('Solarize_Light2')\n",
    "fig1, ax1 = plt.subplots(figsize=(20, 10))\n",
    "fig1.suptitle('Main cities', fontsize=25)\n",
    "ax1.bar(main_cities.index, main_cities)\n",
    "ax1.set_xlabel('Cities', fontsize=20)\n",
    "ax1.set_ylabel('# tweets', fontsize=20)\n",
    "ax1.tick_params(axis='both', labelsize=16)\n",
    "plt.savefig('main-cities.png')\n",
    "plt.show()"
   ]
  },
  {
   "cell_type": "code",
   "execution_count": null,
   "metadata": {},
   "outputs": [],
   "source": [
    "shapefile = '../map/ne_50m_admin_0_countries.shp'\n",
    "gdf = gpd.read_file(shapefile)[['ADMIN', 'ADM0_A3', 'geometry']]\n",
    "gdf.columns = ['country', 'country_code', 'geometry']\n",
    "gdf = gdf.drop(gdf.index[239])\n",
    "merged = gdf.merge(countries, left_on='country_code', right_on='country' , how='left')\n",
    "merged.fillna(0, inplace = True)"
   ]
  },
  {
   "cell_type": "code",
   "execution_count": null,
   "metadata": {},
   "outputs": [],
   "source": [
    "vmin, vmax = countries['tweets'].min(), countries['tweets'].max()\n",
    "norm = colors.LogNorm(vmin=vmin, vmax=vmax)\n",
    "\n",
    "fig, ax = plt.subplots(1, figsize=(15, 8))\n",
    "merged.plot(column='tweets', cmap='YlGnBu', linewidth= 0.4 , ax=ax, edgecolor='0.3', norm=norm)\n",
    "#Le saco los ejes\n",
    "ax.axis('off')\n",
    "\n",
    "#Titulo\n",
    "ax.set_title('Tweets by country', fontdict={'fontsize': '25', 'fontweight' : '3'})\n",
    "\n",
    "#Barra indicadora\n",
    "sm = plt.cm.ScalarMappable(cmap='YlGnBu', norm=norm)\n",
    "cbar = fig.colorbar(sm)\n",
    "\n",
    "cbar.set_label('# tweets',size = 20)\n",
    "plt.savefig('tweets-map.png')"
   ]
  }
 ],
 "metadata": {
  "kernelspec": {
   "display_name": "Python3-venv",
   "language": "python",
   "name": "python3-venv"
  },
  "language_info": {
   "codemirror_mode": {
    "name": "ipython",
    "version": 3
   },
   "file_extension": ".py",
   "mimetype": "text/x-python",
   "name": "python",
   "nbconvert_exporter": "python",
   "pygments_lexer": "ipython3",
   "version": "3.6.9"
  }
 },
 "nbformat": 4,
 "nbformat_minor": 4
}
