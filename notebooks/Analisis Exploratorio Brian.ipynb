{
 "cells": [
  {
   "cell_type": "code",
   "execution_count": 145,
   "metadata": {},
   "outputs": [],
   "source": [
    "import pandas as pd\n",
    "import numpy as np\n",
    "import matplotlib.pyplot as plt\n",
    "%matplotlib inline\n",
    "#import seaborn as sns;\n",
    "#from pandas.plotting import andrews_curves\n",
    "\n",
    "#Lectura del archivo original\n",
    "eventsData = pd.read_csv(r\"C:\\Users\\brian\\OneDrive - fi.uba.ar\\Escritorio\\Facultad\\Datos\\Trabajo-Practico-1\\dataset\\train.csv\",low_memory = False)"
   ]
  },
  {
   "cell_type": "code",
   "execution_count": 146,
   "metadata": {},
   "outputs": [
    {
     "name": "stdout",
     "output_type": "stream",
     "text": [
      "<class 'pandas.core.frame.DataFrame'>\n",
      "RangeIndex: 7613 entries, 0 to 7612\n",
      "Data columns (total 5 columns):\n",
      "id          7613 non-null int64\n",
      "keyword     7552 non-null object\n",
      "location    5080 non-null object\n",
      "text        7613 non-null object\n",
      "target      7613 non-null int64\n",
      "dtypes: int64(2), object(3)\n",
      "memory usage: 297.5+ KB\n"
     ]
    }
   ],
   "source": [
    "#Informaacion basica del dataFrame\n",
    "eventsData.info()"
   ]
  },
  {
   "cell_type": "code",
   "execution_count": 147,
   "metadata": {},
   "outputs": [
    {
     "data": {
      "text/html": [
       "<div>\n",
       "<style scoped>\n",
       "    .dataframe tbody tr th:only-of-type {\n",
       "        vertical-align: middle;\n",
       "    }\n",
       "\n",
       "    .dataframe tbody tr th {\n",
       "        vertical-align: top;\n",
       "    }\n",
       "\n",
       "    .dataframe thead th {\n",
       "        text-align: right;\n",
       "    }\n",
       "</style>\n",
       "<table border=\"1\" class=\"dataframe\">\n",
       "  <thead>\n",
       "    <tr style=\"text-align: right;\">\n",
       "      <th></th>\n",
       "      <th>id</th>\n",
       "      <th>keyword</th>\n",
       "      <th>location</th>\n",
       "      <th>text</th>\n",
       "      <th>target</th>\n",
       "    </tr>\n",
       "  </thead>\n",
       "  <tbody>\n",
       "    <tr>\n",
       "      <th>count</th>\n",
       "      <td>7613.000000</td>\n",
       "      <td>7552</td>\n",
       "      <td>5080</td>\n",
       "      <td>7613</td>\n",
       "      <td>7613.00000</td>\n",
       "    </tr>\n",
       "    <tr>\n",
       "      <th>unique</th>\n",
       "      <td>NaN</td>\n",
       "      <td>221</td>\n",
       "      <td>3341</td>\n",
       "      <td>7503</td>\n",
       "      <td>NaN</td>\n",
       "    </tr>\n",
       "    <tr>\n",
       "      <th>top</th>\n",
       "      <td>NaN</td>\n",
       "      <td>fatalities</td>\n",
       "      <td>USA</td>\n",
       "      <td>11-Year-Old Boy Charged With Manslaughter of T...</td>\n",
       "      <td>NaN</td>\n",
       "    </tr>\n",
       "    <tr>\n",
       "      <th>freq</th>\n",
       "      <td>NaN</td>\n",
       "      <td>45</td>\n",
       "      <td>104</td>\n",
       "      <td>10</td>\n",
       "      <td>NaN</td>\n",
       "    </tr>\n",
       "    <tr>\n",
       "      <th>mean</th>\n",
       "      <td>5441.934848</td>\n",
       "      <td>NaN</td>\n",
       "      <td>NaN</td>\n",
       "      <td>NaN</td>\n",
       "      <td>0.42966</td>\n",
       "    </tr>\n",
       "    <tr>\n",
       "      <th>std</th>\n",
       "      <td>3137.116090</td>\n",
       "      <td>NaN</td>\n",
       "      <td>NaN</td>\n",
       "      <td>NaN</td>\n",
       "      <td>0.49506</td>\n",
       "    </tr>\n",
       "    <tr>\n",
       "      <th>min</th>\n",
       "      <td>1.000000</td>\n",
       "      <td>NaN</td>\n",
       "      <td>NaN</td>\n",
       "      <td>NaN</td>\n",
       "      <td>0.00000</td>\n",
       "    </tr>\n",
       "    <tr>\n",
       "      <th>25%</th>\n",
       "      <td>2734.000000</td>\n",
       "      <td>NaN</td>\n",
       "      <td>NaN</td>\n",
       "      <td>NaN</td>\n",
       "      <td>0.00000</td>\n",
       "    </tr>\n",
       "    <tr>\n",
       "      <th>50%</th>\n",
       "      <td>5408.000000</td>\n",
       "      <td>NaN</td>\n",
       "      <td>NaN</td>\n",
       "      <td>NaN</td>\n",
       "      <td>0.00000</td>\n",
       "    </tr>\n",
       "    <tr>\n",
       "      <th>75%</th>\n",
       "      <td>8146.000000</td>\n",
       "      <td>NaN</td>\n",
       "      <td>NaN</td>\n",
       "      <td>NaN</td>\n",
       "      <td>1.00000</td>\n",
       "    </tr>\n",
       "    <tr>\n",
       "      <th>max</th>\n",
       "      <td>10873.000000</td>\n",
       "      <td>NaN</td>\n",
       "      <td>NaN</td>\n",
       "      <td>NaN</td>\n",
       "      <td>1.00000</td>\n",
       "    </tr>\n",
       "  </tbody>\n",
       "</table>\n",
       "</div>"
      ],
      "text/plain": [
       "                  id     keyword location  \\\n",
       "count    7613.000000        7552     5080   \n",
       "unique           NaN         221     3341   \n",
       "top              NaN  fatalities      USA   \n",
       "freq             NaN          45      104   \n",
       "mean     5441.934848         NaN      NaN   \n",
       "std      3137.116090         NaN      NaN   \n",
       "min         1.000000         NaN      NaN   \n",
       "25%      2734.000000         NaN      NaN   \n",
       "50%      5408.000000         NaN      NaN   \n",
       "75%      8146.000000         NaN      NaN   \n",
       "max     10873.000000         NaN      NaN   \n",
       "\n",
       "                                                     text      target  \n",
       "count                                                7613  7613.00000  \n",
       "unique                                               7503         NaN  \n",
       "top     11-Year-Old Boy Charged With Manslaughter of T...         NaN  \n",
       "freq                                                   10         NaN  \n",
       "mean                                                  NaN     0.42966  \n",
       "std                                                   NaN     0.49506  \n",
       "min                                                   NaN     0.00000  \n",
       "25%                                                   NaN     0.00000  \n",
       "50%                                                   NaN     0.00000  \n",
       "75%                                                   NaN     1.00000  \n",
       "max                                                   NaN     1.00000  "
      ]
     },
     "execution_count": 147,
     "metadata": {},
     "output_type": "execute_result"
    }
   ],
   "source": [
    "eventsData.describe(include='all')"
   ]
  },
  {
   "cell_type": "markdown",
   "metadata": {},
   "source": [
    "Analisis de aquellos que no tienen localizacion"
   ]
  },
  {
   "cell_type": "code",
   "execution_count": 148,
   "metadata": {},
   "outputs": [],
   "source": [
    "sinKeyword = eventsData[eventsData['keyword'].isna()]"
   ]
  },
  {
   "cell_type": "code",
   "execution_count": 149,
   "metadata": {},
   "outputs": [
    {
     "data": {
      "text/html": [
       "<div>\n",
       "<style scoped>\n",
       "    .dataframe tbody tr th:only-of-type {\n",
       "        vertical-align: middle;\n",
       "    }\n",
       "\n",
       "    .dataframe tbody tr th {\n",
       "        vertical-align: top;\n",
       "    }\n",
       "\n",
       "    .dataframe thead th {\n",
       "        text-align: right;\n",
       "    }\n",
       "</style>\n",
       "<table border=\"1\" class=\"dataframe\">\n",
       "  <thead>\n",
       "    <tr style=\"text-align: right;\">\n",
       "      <th></th>\n",
       "      <th>id</th>\n",
       "      <th>target</th>\n",
       "    </tr>\n",
       "  </thead>\n",
       "  <tbody>\n",
       "    <tr>\n",
       "      <th>count</th>\n",
       "      <td>61.000000</td>\n",
       "      <td>61.000000</td>\n",
       "    </tr>\n",
       "    <tr>\n",
       "      <th>mean</th>\n",
       "      <td>5349.606557</td>\n",
       "      <td>0.688525</td>\n",
       "    </tr>\n",
       "    <tr>\n",
       "      <th>std</th>\n",
       "      <td>5459.902088</td>\n",
       "      <td>0.466940</td>\n",
       "    </tr>\n",
       "    <tr>\n",
       "      <th>min</th>\n",
       "      <td>1.000000</td>\n",
       "      <td>0.000000</td>\n",
       "    </tr>\n",
       "    <tr>\n",
       "      <th>25%</th>\n",
       "      <td>23.000000</td>\n",
       "      <td>0.000000</td>\n",
       "    </tr>\n",
       "    <tr>\n",
       "      <th>50%</th>\n",
       "      <td>44.000000</td>\n",
       "      <td>1.000000</td>\n",
       "    </tr>\n",
       "    <tr>\n",
       "      <th>75%</th>\n",
       "      <td>10852.000000</td>\n",
       "      <td>1.000000</td>\n",
       "    </tr>\n",
       "    <tr>\n",
       "      <th>max</th>\n",
       "      <td>10873.000000</td>\n",
       "      <td>1.000000</td>\n",
       "    </tr>\n",
       "  </tbody>\n",
       "</table>\n",
       "</div>"
      ],
      "text/plain": [
       "                 id     target\n",
       "count     61.000000  61.000000\n",
       "mean    5349.606557   0.688525\n",
       "std     5459.902088   0.466940\n",
       "min        1.000000   0.000000\n",
       "25%       23.000000   0.000000\n",
       "50%       44.000000   1.000000\n",
       "75%    10852.000000   1.000000\n",
       "max    10873.000000   1.000000"
      ]
     },
     "execution_count": 149,
     "metadata": {},
     "output_type": "execute_result"
    }
   ],
   "source": [
    "sinKeyword.describe()"
   ]
  },
  {
   "cell_type": "markdown",
   "metadata": {},
   "source": [
    "Demasiados pocos como para que tenga sentido analizarlo"
   ]
  },
  {
   "cell_type": "markdown",
   "metadata": {},
   "source": [
    "Analisis de la distribucion del largo de los tweets verdaderos"
   ]
  },
  {
   "cell_type": "code",
   "execution_count": 150,
   "metadata": {},
   "outputs": [],
   "source": [
    "#Creo una columna con la cantidad de palabras\n",
    "eventsData['cantidadDePalabras'] = eventsData['text'].apply(lambda x: len(x.split()))"
   ]
  },
  {
   "cell_type": "code",
   "execution_count": 151,
   "metadata": {},
   "outputs": [],
   "source": [
    "#Filtro por aquellos con target =1\n",
    "eventsDataTarget1 = eventsData[eventsData['target'] ==1]"
   ]
  },
  {
   "cell_type": "code",
   "execution_count": 152,
   "metadata": {},
   "outputs": [],
   "source": [
    "#Calculos de datos auxiliares necesarios para el grafico\n",
    "desviacionEstandar = eventsDataTarget1['cantidadDePalabras'].std()\n",
    "promedio = eventsDataTarget1['cantidadDePalabras'].mean()\n",
    "cantidadDeValoresUnicos = (eventsDataTarget1['cantidadDePalabras'].unique()).shape[0]"
   ]
  },
  {
   "cell_type": "code",
   "execution_count": 153,
   "metadata": {},
   "outputs": [
    {
     "data": {
      "image/png": "[encoded data removed]",
      "text/plain": [
       "<Figure size 1332x756 with 1 Axes>"
      ]
     },
     "metadata": {
      "needs_background": "light"
     },
     "output_type": "display_data"
    }
   ],
   "source": [
    "#Creacion del grafico en cuestion\n",
    "fig, ax = plt.subplots()\n",
    "fig.set_size_inches(18.5, 10.5)\n",
    "num_bins = cantidadDeValoresUnicos\n",
    "n, bins, patches = ax.hist(eventsDataTarget1['cantidadDePalabras'],\n",
    "                           num_bins,\n",
    "                           density=1)\n",
    "\n",
    "#Linea de tendencia\n",
    "y = ((1 / (np.sqrt(2 * np.pi) * desviacionEstandar)) * np.exp(-0.5 * (1 / desviacionEstandar * (bins - promedio))**2))\n",
    "ax.plot(bins,\n",
    "        y,\n",
    "        '--')\n",
    "\n",
    "ax.set_xlabel('Cantidad de palabras')\n",
    "ax.set_ylabel('Incidencias/Total')\n",
    "ax.set_title('Histograma de la cantidad de palabras de los tweets con target == 1')\n",
    "\n",
    "fig.tight_layout()\n",
    "plt.show()"
   ]
  },
  {
   "cell_type": "markdown",
   "metadata": {},
   "source": [
    "Ahora, se repetira el proceso, pero con aquellos con target == 0."
   ]
  },
  {
   "cell_type": "code",
   "execution_count": 154,
   "metadata": {},
   "outputs": [],
   "source": [
    "#Filtro por aquellos con target =0\n",
    "eventsDataTarget0 = eventsData[eventsData['target'] ==0]"
   ]
  },
  {
   "cell_type": "code",
   "execution_count": 155,
   "metadata": {},
   "outputs": [],
   "source": [
    "#Calculos de datos auxiliares necesarios para el grafico\n",
    "desviacionEstandar = eventsDataTarget1['cantidadDePalabras'].std()\n",
    "promedio = eventsDataTarget1['cantidadDePalabras'].mean()\n",
    "cantidadDeValoresUnicos = (eventsDataTarget1['cantidadDePalabras'].unique()).shape[0]"
   ]
  },
  {
   "cell_type": "code",
   "execution_count": 156,
   "metadata": {},
   "outputs": [
    {
     "data": {
      "image/png": "[encoded data removed]",
      "text/plain": [
       "<Figure size 1332x756 with 1 Axes>"
      ]
     },
     "metadata": {
      "needs_background": "light"
     },
     "output_type": "display_data"
    }
   ],
   "source": [
    "#Creacion del grafico en cuestion\n",
    "fig, ax = plt.subplots()\n",
    "fig.set_size_inches(18.5,\n",
    "                    10.5)\n",
    "num_bins = cantidadDeValoresUnicos\n",
    "n, bins, patches = ax.hist(eventsDataTarget1['cantidadDePalabras'],\n",
    "                           num_bins,\n",
    "                           density=1)\n",
    "#Linea de tendencia\n",
    "y = ((1 / (np.sqrt(2 * np.pi) * desviacionEstandar)) *np.exp(-0.5 * (1 / desviacionEstandar * (bins - promedio))**2))\n",
    "ax.plot(bins,\n",
    "        y,\n",
    "        '--')\n",
    "ax.set_xlabel('Cantidad de palabras')\n",
    "ax.set_ylabel('Incidencias/Total')\n",
    "ax.set_title('Histograma de la cantidad de palabras de los tweets con target == 0')\n",
    "\n",
    "fig.tight_layout()\n",
    "plt.show()"
   ]
  },
  {
   "cell_type": "markdown",
   "metadata": {},
   "source": [
    "Ahora vamos a trabajar contando tambien la cantidad de caracteres"
   ]
  },
  {
   "cell_type": "code",
   "execution_count": 157,
   "metadata": {},
   "outputs": [],
   "source": [
    "#Primero agrego la columna en cuestion con la que voy a trabajar\n",
    "eventsData['cantidadDeCaracteres'] = eventsData['text'].apply(lambda x: len(x)-x.count(\" \"))\n"
   ]
  },
  {
   "cell_type": "code",
   "execution_count": 158,
   "metadata": {},
   "outputs": [],
   "source": [
    "#Para el primer grafico, me voy a quedar simplemente con las tres columnas que me interesan\n",
    "eventsDataAux = eventsData[['cantidadDeCaracteres','cantidadDePalabras','target']]"
   ]
  },
  {
   "cell_type": "code",
   "execution_count": 159,
   "metadata": {},
   "outputs": [],
   "source": [
    "#En este analisis voy a ver si hay correlacion entre cantidad de palabras, y el largo de las mismas\n",
    "#Voy a empezar con los target = 1\n",
    "eventsDataTarget1 = eventsDataAux[eventsDataAux['target']==1]\n",
    "eventsDataTarget1 = eventsDataTarget1.groupby(\"cantidadDePalabras\").agg({'cantidadDeCaracteres':'mean'})\n",
    "eventsDataTarget1 = eventsDataTarget1.reset_index()"
   ]
  },
  {
   "cell_type": "code",
   "execution_count": 160,
   "metadata": {},
   "outputs": [],
   "source": [
    "#Vamos a ver ahora si, en el caso de los ceros, hay variacion\n",
    "eventsDataTarget0 = eventsDataAux[eventsDataAux['target']==0]\n",
    "eventsDataTarget0 = eventsDataTarget0.groupby(\"cantidadDePalabras\").agg({'cantidadDeCaracteres':'mean'})\n",
    "eventsDataTarget0 = eventsDataTarget0.reset_index()\n"
   ]
  },
  {
   "cell_type": "code",
   "execution_count": 161,
   "metadata": {},
   "outputs": [],
   "source": [
    "#Realizo un join de ambos dataset. Como lo voy a utilizar para comparar, solo voy a quedarme con aquellas entradas que compartan\n",
    "#cantidad de Palabras\n",
    "eventsDataMix = eventsDataTarget0.set_index('cantidadDePalabras').join(eventsDataTarget1.set_index('cantidadDePalabras'),\n",
    "                                                                    lsuffix = '_target_0',\n",
    "                                                                    rsuffix = '_target_1',\n",
    "                                                                    how='inner')"
   ]
  },
  {
   "cell_type": "code",
   "execution_count": 162,
   "metadata": {},
   "outputs": [
    {
     "data": {
      "image/png": "[encoded data removed]",
      "text/plain": [
       "<Figure size 1332x756 with 1 Axes>"
      ]
     },
     "metadata": {
      "needs_background": "light"
     },
     "output_type": "display_data"
    }
   ],
   "source": [
    "#Creo el grafico comparativo\n",
    "target_0 = eventsDataMix['cantidadDeCaracteres_target_0']\n",
    "target_1 = eventsDataMix['cantidadDeCaracteres_target_1']\n",
    "\n",
    "\n",
    "fig, ax = plt.subplots()\n",
    "fig.set_size_inches(18.5, 10.5)\n",
    "index = np.arange(len(eventsDataMix.index))\n",
    "bar_width = 0.35\n",
    "opacity = 0.8\n",
    "\n",
    "rects1 = plt.bar(index,\n",
    "                 target_0,\n",
    "                 bar_width,\n",
    "                 alpha=opacity,\n",
    "                 color='b',\n",
    "                 label='Target 0')\n",
    "\n",
    "rects2 = plt.bar(index + bar_width,\n",
    "                 target_1,\n",
    "                 bar_width,\n",
    "                 alpha=opacity,\n",
    "                 color='g',\n",
    "                 label='Target 1')\n",
    "\n",
    "plt.xlabel('Cantidad de palabras en tweet')\n",
    "plt.ylabel('Cantidad de caracteres totales')\n",
    "plt.title('Largo de palabras en tweets por categoria y cantidad de palabras')\n",
    "plt.legend()\n",
    "plt.show()"
   ]
  },
  {
   "cell_type": "markdown",
   "metadata": {},
   "source": [
    "Para que quede mas claro, se realizara un nuevo grafico en el que simplemente mostraremos la diferencia que existe"
   ]
  },
  {
   "cell_type": "code",
   "execution_count": 167,
   "metadata": {},
   "outputs": [],
   "source": [
    "#Definicion de la funcion a aplicar para lograr el objetivo expresado anteriormente\n",
    "def restar_columnas(row):\n",
    "    return row['cantidadDeCaracteres_target_1']- row['cantidadDeCaracteres_target_0']\n"
   ]
  },
  {
   "cell_type": "code",
   "execution_count": 168,
   "metadata": {},
   "outputs": [],
   "source": [
    "#Aplico la funcion y solo me quedo con el indice y la diferencia\n",
    "eventsDataMix['diferencia_de_caracteres'] = eventsDataMix.apply(lambda x: restar_columnas(x),axis = 1)\n",
    "eventsDataMix = eventsDataMix[['diferencia_de_caracteres']]"
   ]
  },
  {
   "cell_type": "code",
   "execution_count": 206,
   "metadata": {},
   "outputs": [
    {
     "data": {
      "image/png": "[encoded data removed]",
      "text/plain": [
       "<Figure size 1332x756 with 1 Axes>"
      ]
     },
     "metadata": {
      "needs_background": "light"
     },
     "output_type": "display_data"
    }
   ],
   "source": [
    "#Grafico en cuestion\n",
    "fig, ax = plt.subplots()\n",
    "fig.set_size_inches(18.5, 10.5)\n",
    "index = np.arange(len(eventsDataMix.index))\n",
    "bar_width = 0.35\n",
    "opacity = 0.8\n",
    "\n",
    "rects1 = plt.bar(index,\n",
    "                 eventsDataMix['diferencia_de_caracteres'],\n",
    "                 bar_width,\n",
    "                 alpha=opacity,\n",
    "                 color='r',\n",
    "                 label='diferencia de caracteres')\n",
    "plt.xlabel('Cantidad de palabras')\n",
    "plt.ylabel('Diferencia en el promedio de la cantidad de caracteres')\n",
    "plt.title('Diferencia en el promedio de caracteres por palabra entre targets (Target 1 - Target 0)')\n",
    "plt.axhline(0, color='black')\n",
    "plt.legend()\n",
    "plt.show()"
   ]
  },
  {
   "cell_type": "markdown",
   "metadata": {},
   "source": [
    "Vamos a trabajar con las keywords ahora"
   ]
  },
  {
   "cell_type": "code",
   "execution_count": 204,
   "metadata": {},
   "outputs": [],
   "source": [
    "#Voy a analizar cuales son las keyword que tienen mayor tendencia a ser 1 y cero respectivamente. Top 5. Para no cometer\n",
    "#nos vamos a quedar tambien con la cantidad de veces que aparecen y eliminar aquellos que tienen pocas apariciones\n",
    "keywordData = eventsData[eventsData['keyword'].notna()]\n",
    "keywordData = keywordData[['keyword','target']]\n",
    "keywordData.loc[:, 'cantidad_de_apariciones'] = 1\n",
    "keywordData = keywordData.groupby(\"keyword\").agg({'target':'mean','cantidad_de_apariciones':'count'})\n",
    "keywordData.sort_values('cantidad_de_apariciones',inplace = True)"
   ]
  },
  {
   "cell_type": "code",
   "execution_count": 205,
   "metadata": {},
   "outputs": [
    {
     "data": {
      "text/html": [
       "<div>\n",
       "<style scoped>\n",
       "    .dataframe tbody tr th:only-of-type {\n",
       "        vertical-align: middle;\n",
       "    }\n",
       "\n",
       "    .dataframe tbody tr th {\n",
       "        vertical-align: top;\n",
       "    }\n",
       "\n",
       "    .dataframe thead th {\n",
       "        text-align: right;\n",
       "    }\n",
       "</style>\n",
       "<table border=\"1\" class=\"dataframe\">\n",
       "  <thead>\n",
       "    <tr style=\"text-align: right;\">\n",
       "      <th></th>\n",
       "      <th>target</th>\n",
       "      <th>cantidad_de_apariciones</th>\n",
       "    </tr>\n",
       "    <tr>\n",
       "      <th>keyword</th>\n",
       "      <th></th>\n",
       "      <th></th>\n",
       "    </tr>\n",
       "  </thead>\n",
       "  <tbody>\n",
       "    <tr>\n",
       "      <th>radiation%20emergency</th>\n",
       "      <td>0.555556</td>\n",
       "      <td>9</td>\n",
       "    </tr>\n",
       "    <tr>\n",
       "      <th>inundation</th>\n",
       "      <td>0.200000</td>\n",
       "      <td>10</td>\n",
       "    </tr>\n",
       "    <tr>\n",
       "      <th>threat</th>\n",
       "      <td>0.181818</td>\n",
       "      <td>11</td>\n",
       "    </tr>\n",
       "    <tr>\n",
       "      <th>epicentre</th>\n",
       "      <td>0.083333</td>\n",
       "      <td>12</td>\n",
       "    </tr>\n",
       "    <tr>\n",
       "      <th>forest%20fire</th>\n",
       "      <td>0.789474</td>\n",
       "      <td>19</td>\n",
       "    </tr>\n",
       "    <tr>\n",
       "      <th>rescue</th>\n",
       "      <td>0.227273</td>\n",
       "      <td>22</td>\n",
       "    </tr>\n",
       "    <tr>\n",
       "      <th>war%20zone</th>\n",
       "      <td>0.291667</td>\n",
       "      <td>24</td>\n",
       "    </tr>\n",
       "    <tr>\n",
       "      <th>bush%20fires</th>\n",
       "      <td>0.720000</td>\n",
       "      <td>25</td>\n",
       "    </tr>\n",
       "    <tr>\n",
       "      <th>battle</th>\n",
       "      <td>0.192308</td>\n",
       "      <td>26</td>\n",
       "    </tr>\n",
       "    <tr>\n",
       "      <th>volcano</th>\n",
       "      <td>0.666667</td>\n",
       "      <td>27</td>\n",
       "    </tr>\n",
       "    <tr>\n",
       "      <th>deluged</th>\n",
       "      <td>0.259259</td>\n",
       "      <td>27</td>\n",
       "    </tr>\n",
       "    <tr>\n",
       "      <th>rubble</th>\n",
       "      <td>0.357143</td>\n",
       "      <td>28</td>\n",
       "    </tr>\n",
       "    <tr>\n",
       "      <th>demolished</th>\n",
       "      <td>0.250000</td>\n",
       "      <td>28</td>\n",
       "    </tr>\n",
       "    <tr>\n",
       "      <th>snowstorm</th>\n",
       "      <td>0.448276</td>\n",
       "      <td>29</td>\n",
       "    </tr>\n",
       "    <tr>\n",
       "      <th>sirens</th>\n",
       "      <td>0.241379</td>\n",
       "      <td>29</td>\n",
       "    </tr>\n",
       "    <tr>\n",
       "      <th>desolate</th>\n",
       "      <td>0.241379</td>\n",
       "      <td>29</td>\n",
       "    </tr>\n",
       "    <tr>\n",
       "      <th>annihilation</th>\n",
       "      <td>0.344828</td>\n",
       "      <td>29</td>\n",
       "    </tr>\n",
       "    <tr>\n",
       "      <th>obliteration</th>\n",
       "      <td>0.137931</td>\n",
       "      <td>29</td>\n",
       "    </tr>\n",
       "    <tr>\n",
       "      <th>first%20responders</th>\n",
       "      <td>0.413793</td>\n",
       "      <td>29</td>\n",
       "    </tr>\n",
       "    <tr>\n",
       "      <th>seismic</th>\n",
       "      <td>0.448276</td>\n",
       "      <td>29</td>\n",
       "    </tr>\n",
       "    <tr>\n",
       "      <th>bombing</th>\n",
       "      <td>0.931034</td>\n",
       "      <td>29</td>\n",
       "    </tr>\n",
       "    <tr>\n",
       "      <th>dead</th>\n",
       "      <td>0.233333</td>\n",
       "      <td>30</td>\n",
       "    </tr>\n",
       "    <tr>\n",
       "      <th>catastrophic</th>\n",
       "      <td>0.666667</td>\n",
       "      <td>30</td>\n",
       "    </tr>\n",
       "    <tr>\n",
       "      <th>mayhem</th>\n",
       "      <td>0.100000</td>\n",
       "      <td>30</td>\n",
       "    </tr>\n",
       "    <tr>\n",
       "      <th>bioterrorism</th>\n",
       "      <td>0.700000</td>\n",
       "      <td>30</td>\n",
       "    </tr>\n",
       "    <tr>\n",
       "      <th>avalanche</th>\n",
       "      <td>0.133333</td>\n",
       "      <td>30</td>\n",
       "    </tr>\n",
       "    <tr>\n",
       "      <th>survivors</th>\n",
       "      <td>0.700000</td>\n",
       "      <td>30</td>\n",
       "    </tr>\n",
       "    <tr>\n",
       "      <th>obliterate</th>\n",
       "      <td>0.129032</td>\n",
       "      <td>31</td>\n",
       "    </tr>\n",
       "    <tr>\n",
       "      <th>wild%20fires</th>\n",
       "      <td>0.870968</td>\n",
       "      <td>31</td>\n",
       "    </tr>\n",
       "    <tr>\n",
       "      <th>hostage</th>\n",
       "      <td>0.483871</td>\n",
       "      <td>31</td>\n",
       "    </tr>\n",
       "    <tr>\n",
       "      <th>...</th>\n",
       "      <td>...</td>\n",
       "      <td>...</td>\n",
       "    </tr>\n",
       "    <tr>\n",
       "      <th>deaths</th>\n",
       "      <td>0.684211</td>\n",
       "      <td>38</td>\n",
       "    </tr>\n",
       "    <tr>\n",
       "      <th>thunder</th>\n",
       "      <td>0.315789</td>\n",
       "      <td>38</td>\n",
       "    </tr>\n",
       "    <tr>\n",
       "      <th>whirlwind</th>\n",
       "      <td>0.358974</td>\n",
       "      <td>39</td>\n",
       "    </tr>\n",
       "    <tr>\n",
       "      <th>weapons</th>\n",
       "      <td>0.435897</td>\n",
       "      <td>39</td>\n",
       "    </tr>\n",
       "    <tr>\n",
       "      <th>weapon</th>\n",
       "      <td>0.358974</td>\n",
       "      <td>39</td>\n",
       "    </tr>\n",
       "    <tr>\n",
       "      <th>flames</th>\n",
       "      <td>0.333333</td>\n",
       "      <td>39</td>\n",
       "    </tr>\n",
       "    <tr>\n",
       "      <th>explosion</th>\n",
       "      <td>0.512821</td>\n",
       "      <td>39</td>\n",
       "    </tr>\n",
       "    <tr>\n",
       "      <th>collision</th>\n",
       "      <td>0.743590</td>\n",
       "      <td>39</td>\n",
       "    </tr>\n",
       "    <tr>\n",
       "      <th>derailment</th>\n",
       "      <td>1.000000</td>\n",
       "      <td>39</td>\n",
       "    </tr>\n",
       "    <tr>\n",
       "      <th>earthquake</th>\n",
       "      <td>0.769231</td>\n",
       "      <td>39</td>\n",
       "    </tr>\n",
       "    <tr>\n",
       "      <th>sunk</th>\n",
       "      <td>0.230769</td>\n",
       "      <td>39</td>\n",
       "    </tr>\n",
       "    <tr>\n",
       "      <th>famine</th>\n",
       "      <td>0.666667</td>\n",
       "      <td>39</td>\n",
       "    </tr>\n",
       "    <tr>\n",
       "      <th>wrecked</th>\n",
       "      <td>0.076923</td>\n",
       "      <td>39</td>\n",
       "    </tr>\n",
       "    <tr>\n",
       "      <th>wreckage</th>\n",
       "      <td>1.000000</td>\n",
       "      <td>39</td>\n",
       "    </tr>\n",
       "    <tr>\n",
       "      <th>hellfire</th>\n",
       "      <td>0.179487</td>\n",
       "      <td>39</td>\n",
       "    </tr>\n",
       "    <tr>\n",
       "      <th>sinkhole</th>\n",
       "      <td>0.692308</td>\n",
       "      <td>39</td>\n",
       "    </tr>\n",
       "    <tr>\n",
       "      <th>twister</th>\n",
       "      <td>0.125000</td>\n",
       "      <td>40</td>\n",
       "    </tr>\n",
       "    <tr>\n",
       "      <th>collided</th>\n",
       "      <td>0.575000</td>\n",
       "      <td>40</td>\n",
       "    </tr>\n",
       "    <tr>\n",
       "      <th>windstorm</th>\n",
       "      <td>0.400000</td>\n",
       "      <td>40</td>\n",
       "    </tr>\n",
       "    <tr>\n",
       "      <th>siren</th>\n",
       "      <td>0.125000</td>\n",
       "      <td>40</td>\n",
       "    </tr>\n",
       "    <tr>\n",
       "      <th>evacuate</th>\n",
       "      <td>0.625000</td>\n",
       "      <td>40</td>\n",
       "    </tr>\n",
       "    <tr>\n",
       "      <th>fear</th>\n",
       "      <td>0.125000</td>\n",
       "      <td>40</td>\n",
       "    </tr>\n",
       "    <tr>\n",
       "      <th>outbreak</th>\n",
       "      <td>0.975000</td>\n",
       "      <td>40</td>\n",
       "    </tr>\n",
       "    <tr>\n",
       "      <th>harm</th>\n",
       "      <td>0.097561</td>\n",
       "      <td>41</td>\n",
       "    </tr>\n",
       "    <tr>\n",
       "      <th>damage</th>\n",
       "      <td>0.463415</td>\n",
       "      <td>41</td>\n",
       "    </tr>\n",
       "    <tr>\n",
       "      <th>sinking</th>\n",
       "      <td>0.195122</td>\n",
       "      <td>41</td>\n",
       "    </tr>\n",
       "    <tr>\n",
       "      <th>body%20bags</th>\n",
       "      <td>0.024390</td>\n",
       "      <td>41</td>\n",
       "    </tr>\n",
       "    <tr>\n",
       "      <th>armageddon</th>\n",
       "      <td>0.119048</td>\n",
       "      <td>42</td>\n",
       "    </tr>\n",
       "    <tr>\n",
       "      <th>deluge</th>\n",
       "      <td>0.142857</td>\n",
       "      <td>42</td>\n",
       "    </tr>\n",
       "    <tr>\n",
       "      <th>fatalities</th>\n",
       "      <td>0.577778</td>\n",
       "      <td>45</td>\n",
       "    </tr>\n",
       "  </tbody>\n",
       "</table>\n",
       "<p>221 rows × 2 columns</p>\n",
       "</div>"
      ],
      "text/plain": [
       "                         target  cantidad_de_apariciones\n",
       "keyword                                                 \n",
       "radiation%20emergency  0.555556                        9\n",
       "inundation             0.200000                       10\n",
       "threat                 0.181818                       11\n",
       "epicentre              0.083333                       12\n",
       "forest%20fire          0.789474                       19\n",
       "rescue                 0.227273                       22\n",
       "war%20zone             0.291667                       24\n",
       "bush%20fires           0.720000                       25\n",
       "battle                 0.192308                       26\n",
       "volcano                0.666667                       27\n",
       "deluged                0.259259                       27\n",
       "rubble                 0.357143                       28\n",
       "demolished             0.250000                       28\n",
       "snowstorm              0.448276                       29\n",
       "sirens                 0.241379                       29\n",
       "desolate               0.241379                       29\n",
       "annihilation           0.344828                       29\n",
       "obliteration           0.137931                       29\n",
       "first%20responders     0.413793                       29\n",
       "seismic                0.448276                       29\n",
       "bombing                0.931034                       29\n",
       "dead                   0.233333                       30\n",
       "catastrophic           0.666667                       30\n",
       "mayhem                 0.100000                       30\n",
       "bioterrorism           0.700000                       30\n",
       "avalanche              0.133333                       30\n",
       "survivors              0.700000                       30\n",
       "obliterate             0.129032                       31\n",
       "wild%20fires           0.870968                       31\n",
       "hostage                0.483871                       31\n",
       "...                         ...                      ...\n",
       "deaths                 0.684211                       38\n",
       "thunder                0.315789                       38\n",
       "whirlwind              0.358974                       39\n",
       "weapons                0.435897                       39\n",
       "weapon                 0.358974                       39\n",
       "flames                 0.333333                       39\n",
       "explosion              0.512821                       39\n",
       "collision              0.743590                       39\n",
       "derailment             1.000000                       39\n",
       "earthquake             0.769231                       39\n",
       "sunk                   0.230769                       39\n",
       "famine                 0.666667                       39\n",
       "wrecked                0.076923                       39\n",
       "wreckage               1.000000                       39\n",
       "hellfire               0.179487                       39\n",
       "sinkhole               0.692308                       39\n",
       "twister                0.125000                       40\n",
       "collided               0.575000                       40\n",
       "windstorm              0.400000                       40\n",
       "siren                  0.125000                       40\n",
       "evacuate               0.625000                       40\n",
       "fear                   0.125000                       40\n",
       "outbreak               0.975000                       40\n",
       "harm                   0.097561                       41\n",
       "damage                 0.463415                       41\n",
       "sinking                0.195122                       41\n",
       "body%20bags            0.024390                       41\n",
       "armageddon             0.119048                       42\n",
       "deluge                 0.142857                       42\n",
       "fatalities             0.577778                       45\n",
       "\n",
       "[221 rows x 2 columns]"
      ]
     },
     "execution_count": 205,
     "metadata": {},
     "output_type": "execute_result"
    }
   ],
   "source": [
    "keywordData"
   ]
  },
  {
   "cell_type": "markdown",
   "metadata": {},
   "source": [
    "Se eliminaran aquellos que tienen apariciones menores a 29."
   ]
  },
  {
   "cell_type": "code",
   "execution_count": 217,
   "metadata": {},
   "outputs": [],
   "source": [
    "#Vamos a ver cuales son los 10 keywords con el peor y mejor promedio. Cuanto menor sea el promedio, mas target 0 tendran. Lo\n",
    "#contrario rige para aquellos con promedio mayor.\n",
    "top_inferior_keywords = keywordData.nsmallest(10,'target')"
   ]
  },
  {
   "cell_type": "code",
   "execution_count": 218,
   "metadata": {},
   "outputs": [
    {
     "data": {
      "image/png": "[encoded data removed]",
      "text/plain": [
       "<Figure size 1332x756 with 1 Axes>"
      ]
     },
     "metadata": {
      "needs_background": "light"
     },
     "output_type": "display_data"
    }
   ],
   "source": [
    "#Grafico del top 5\n",
    "fig, ax = plt.subplots()\n",
    "fig.set_size_inches(18.5, 10.5)\n",
    "bar_width = 0.35\n",
    "opacity = 0.8\n",
    "\n",
    "rects1 = plt.bar(top_inferior_keywords.index,\n",
    "                 top_inferior_keywords['target'],\n",
    "                 bar_width,\n",
    "                 alpha=opacity,\n",
    "                 color='r',\n",
    "                 label='promedio de valor de target')\n",
    "plt.xlabel('Keyword')\n",
    "plt.ylabel('Promedio')\n",
    "plt.title('Top 10 de keywords con menor promedio de target')\n",
    "plt.axhline(0, color='black')\n",
    "plt.legend()\n",
    "plt.show()"
   ]
  },
  {
   "cell_type": "code",
   "execution_count": 220,
   "metadata": {},
   "outputs": [],
   "source": [
    "#Ahora me quedo con aquellas que si tienen\n",
    "top_superior = keywordData.nlargest(10,'target')"
   ]
  },
  {
   "cell_type": "code",
   "execution_count": 224,
   "metadata": {},
   "outputs": [
    {
     "data": {
      "image/png": "[encoded data removed]",
      "text/plain": [
       "<Figure size 1332x756 with 1 Axes>"
      ]
     },
     "metadata": {
      "needs_background": "light"
     },
     "output_type": "display_data"
    }
   ],
   "source": [
    "fig, ax = plt.subplots()\n",
    "fig.set_size_inches(18.5, 10.5)\n",
    "bar_width = 0.25\n",
    "opacity = 0.8\n",
    "\n",
    "rects1 = plt.bar(top_superior.index,\n",
    "                 top_superior['target'],\n",
    "                 bar_width,\n",
    "                 alpha=opacity,\n",
    "                 color='r',\n",
    "                 label='promedio de valor de target')\n",
    "plt.xlabel('Keyword')\n",
    "plt.ylabel('Promedio')\n",
    "plt.title('Top 10 de keywords con mayor promedio de target')\n",
    "plt.axhline(0, color='black')\n",
    "plt.legend()\n",
    "plt.show()"
   ]
  },
  {
   "cell_type": "code",
   "execution_count": null,
   "metadata": {},
   "outputs": [],
   "source": []
  }
 ],
 "metadata": {
  "kernelspec": {
   "display_name": "Python 3",
   "language": "python",
   "name": "python3"
  },
  "language_info": {
   "codemirror_mode": {
    "name": "ipython",
    "version": 3
   },
   "file_extension": ".py",
   "mimetype": "text/x-python",
   "name": "python",
   "nbconvert_exporter": "python",
   "pygments_lexer": "ipython3",
   "version": "3.7.3"
  }
 },
 "nbformat": 4,
 "nbformat_minor": 2
}
