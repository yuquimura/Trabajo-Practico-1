{
 "cells": [
  {
   "cell_type": "code",
   "execution_count": null,
   "metadata": {},
   "outputs": [],
   "source": [
    "import pandas as pd\n",
    "import matplotlib.pyplot as plt\n",
    "from wordcloud import WordCloud\n",
    "\n",
    "%matplotlib inline"
   ]
  },
  {
   "cell_type": "code",
   "execution_count": null,
   "metadata": {},
   "outputs": [],
   "source": [
    "data = pd.read_csv(\"../dataset/train.csv\", index_col=0, usecols=[\"id\", \"text\", \"target\"])\n",
    "data"
   ]
  },
  {
   "cell_type": "code",
   "execution_count": null,
   "metadata": {},
   "outputs": [],
   "source": [
    "data = data.rename(columns={'target': 'real'})\n",
    "data['non-real'] = data['real'].map(lambda x: 0 if x==1 else 1)\n",
    "data['mentions'] = data['text'].map(lambda t: list(filter(lambda e: len(e)>1 and e[0] == '@', t.split(' '))))\n",
    "data['mention_count'] = data['mentions'].map(lambda l: len(l))\n",
    "del data['text']\n",
    "data"
   ]
  },
  {
   "cell_type": "markdown",
   "metadata": {},
   "source": [
    "## Cantidad de menciones"
   ]
  },
  {
   "cell_type": "code",
   "execution_count": null,
   "metadata": {},
   "outputs": [],
   "source": [
    "data['mention_count'].to_frame().describe()"
   ]
  },
  {
   "cell_type": "markdown",
   "metadata": {},
   "source": [
    "## Usuarios mencionados"
   ]
  },
  {
   "cell_type": "code",
   "execution_count": null,
   "metadata": {},
   "outputs": [],
   "source": [
    "users = data[['mentions', 'real']]\\\n",
    "    .where(data['mention_count'] > 0).dropna()\\\n",
    "    .apply(lambda r: [(u, r['real']) for u in r['mentions']], axis='columns')\\\n",
    "    .apply(pd.Series).stack().reset_index(drop=True).to_frame()\n",
    "users['user'] = users[0].map(lambda r: r[0])\n",
    "users['real'] = users[0].map(lambda r: int(r[1]))\n",
    "users['total'] = users[0].map(lambda r: 1) \n",
    "del users[0]\n",
    "users = users.groupby('user').sum().sort_values(by=['total', 'real'], ascending=False)\n",
    "users"
   ]
  },
  {
   "cell_type": "code",
   "execution_count": null,
   "metadata": {},
   "outputs": [],
   "source": [
    "users.describe()"
   ]
  },
  {
   "cell_type": "code",
   "execution_count": null,
   "metadata": {},
   "outputs": [],
   "source": [
    "wordcloud = WordCloud(width=800, height=800, background_color='white', min_font_size=5).generate_from_frequencies(users['total'])\n",
    "plt.figure(figsize = (10, 10), facecolor = None) \n",
    "plt.imshow(wordcloud) \n",
    "plt.axis(\"off\") \n",
    "plt.tight_layout(pad = 0) \n",
    "  \n",
    "plt.show() "
   ]
  },
  {
   "cell_type": "code",
   "execution_count": null,
   "metadata": {},
   "outputs": [],
   "source": [
    "def plot_users(series, title):\n",
    "    fig, ax = plt.subplots(figsize=(30, 10))\n",
    "    fig.suptitle(title, fontsize=40)\n",
    "    ax.bar(series.index, series['total'], align='center', label='Non-real')\n",
    "    ax.bar(series.index, series['real'], align='center', label='Real')\n",
    "    ax.autoscale(tight=True)\n",
    "    ax.set_xlabel('User', fontsize=20)\n",
    "    ax.set_ylabel('Mentions', fontsize=20)\n",
    "    ax.set_xticklabels(series.index, fontsize=15 )\n",
    "    ax.legend(loc='best', fontsize=20)"
   ]
  },
  {
   "cell_type": "code",
   "execution_count": null,
   "metadata": {},
   "outputs": [],
   "source": [
    "plot_users(users.head(15), 'Most mentioned users')"
   ]
  },
  {
   "cell_type": "code",
   "execution_count": null,
   "metadata": {},
   "outputs": [],
   "source": [
    "plot_users(users[1:17], 'Most mentioned users (without YouTube)')"
   ]
  },
  {
   "cell_type": "markdown",
   "metadata": {},
   "source": [
    "## Veracidad del tweet por cantidad de usuarios mencionados"
   ]
  },
  {
   "cell_type": "code",
   "execution_count": null,
   "metadata": {},
   "outputs": [],
   "source": [
    "data_by_user_mentions = data.groupby(['mention_count']).sum()\n",
    "data_by_user_mentions['total'] = data_by_user_mentions['real'] + data_by_user_mentions['non-real']\n",
    "data_by_user_mentions['real-normalized'] = data_by_user_mentions['real'] / data_by_user_mentions['total']\n",
    "data_by_user_mentions['non-real-normalized'] = data_by_user_mentions['non-real'] / data_by_user_mentions['total']\n",
    "\n",
    "data_by_user_mentions"
   ]
  },
  {
   "cell_type": "code",
   "execution_count": null,
   "metadata": {},
   "outputs": [],
   "source": [
    "fig, ax = plt.subplots(figsize=(30, 10))\n",
    "fig.suptitle('Veracity of tweets by user mentions', fontsize=40)\n",
    "ax.bar(data_by_user_mentions.index + 0.2, data_by_user_mentions['non-real-normalized'], width=0.4, align='center', label='Non-real')\n",
    "ax.bar(data_by_user_mentions.index - 0.2, data_by_user_mentions['real-normalized'], width=0.4, align='center', label='Real')\n",
    "ax.autoscale(tight=True)\n",
    "ax.legend(loc='upper left', fontsize=20)\n",
    "ax.set_xlabel('User mentions', fontsize=20)\n",
    "ax.set_ylabel('% Tweets', fontsize=20)"
   ]
  },
  {
   "cell_type": "markdown",
   "metadata": {},
   "source": [
    "El gráfico muestra que a medida que aumentan las menciones a otros usuarios, hay menos proporción de tweets verídicos.\n",
    "Sin embargo, la mayoría de los tweets tienen ninguna o pocas menciones, la muestra se va achicando mucho a medida que aumentan, por lo que seguramente no sirva para definir si es verídico o no."
   ]
  }
 ],
 "metadata": {
  "kernelspec": {
   "display_name": "Python3-venv",
   "language": "python",
   "name": "python3-venv"
  },
  "language_info": {
   "codemirror_mode": {
    "name": "ipython",
    "version": 3
   },
   "file_extension": ".py",
   "mimetype": "text/x-python",
   "name": "python",
   "nbconvert_exporter": "python",
   "pygments_lexer": "ipython3",
   "version": "3.6.9"
  }
 },
 "nbformat": 4,
 "nbformat_minor": 4
}
