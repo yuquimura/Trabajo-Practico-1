{
 "cells": [
  {
   "cell_type": "code",
   "execution_count": null,
   "metadata": {},
   "outputs": [],
   "source": [
    "import pandas as pd\n",
    "import matplotlib.pyplot as plt\n",
    "import seaborn as sns\n",
    "\n",
    "sns.set()\n",
    "\n",
    "%matplotlib inline"
   ]
  },
  {
   "cell_type": "code",
   "execution_count": null,
   "metadata": {},
   "outputs": [],
   "source": [
    "raw_data = pd.read_csv(\"../dataset/train.csv\", index_col=0, usecols=[\"id\", \"text\", \"target\"])\n",
    "raw_data"
   ]
  },
  {
   "cell_type": "code",
   "execution_count": null,
   "metadata": {},
   "outputs": [],
   "source": [
    "data = raw_data.rename(columns={'target': 'real'})\n",
    "data['non-real'] = data['real'].map(lambda x: 0 if x==1 else 1)\n",
    "data['links'] = data['text'].map(lambda t: list(filter(lambda e: e.startswith('http://'), t.split(' '))))\n",
    "data['link_count'] = data['links'].map(lambda l: len(l))\n",
    "data"
   ]
  },
  {
   "cell_type": "code",
   "execution_count": null,
   "metadata": {},
   "outputs": [],
   "source": [
    "data['link_count'].describe()"
   ]
  },
  {
   "cell_type": "code",
   "execution_count": null,
   "metadata": {},
   "outputs": [],
   "source": [
    "data['sec_links'] = data['text'].map(lambda t: list(filter(lambda e: e.startswith('https://'), t.split(' '))))\n",
    "data['sec_link_count'] = data['sec_links'].map(lambda l: len(l))\n",
    "\n",
    "data"
   ]
  },
  {
   "cell_type": "code",
   "execution_count": null,
   "metadata": {},
   "outputs": [],
   "source": [
    "data['sec_link_count'].describe()"
   ]
  },
  {
   "cell_type": "code",
   "execution_count": null,
   "metadata": {},
   "outputs": [],
   "source": [
    "data_by_link_count = data.loc[:, ('real', 'non-real', 'link_count')].groupby('link_count').sum()\n",
    "data_by_link_count"
   ]
  },
  {
   "cell_type": "code",
   "execution_count": null,
   "metadata": {},
   "outputs": [],
   "source": [
    "fig, ax = plt.subplots(figsize=(30, 10))\n",
    "fig.suptitle('Veracity of tweets by link count', fontsize=40)\n",
    "ax.bar(data_by_link_count.index + 0.2, data_by_link_count['non-real'], width=0.4, align='center', label='Non-real')\n",
    "ax.bar(data_by_link_count.index - 0.2, data_by_link_count['real'], width=0.4, align='center', label='Real')\n",
    "ax.autoscale(tight=True)\n",
    "ax.legend(loc='upper left', fontsize=20)\n",
    "ax.set_xlabel('# of links', fontsize=20)\n",
    "ax.set_ylabel('% Tweets', fontsize=20)"
   ]
  },
  {
   "cell_type": "markdown",
   "metadata": {},
   "source": [
    "Pareciera que un tweet es más confiable si tiene **un** link en su contenido."
   ]
  },
  {
   "cell_type": "code",
   "execution_count": null,
   "metadata": {},
   "outputs": [],
   "source": [
    "data_by_sec_link_count = data.loc[:, ('real', 'non-real', 'sec_link_count')].groupby('sec_link_count').sum()\n",
    "data_by_sec_link_count"
   ]
  },
  {
   "cell_type": "code",
   "execution_count": null,
   "metadata": {},
   "outputs": [],
   "source": [
    "fig, ax = plt.subplots(figsize=(30, 10))\n",
    "fig.suptitle('Veracity of tweets by link count', fontsize=40)\n",
    "ax.bar(data_by_sec_link_count.index + 0.2, data_by_sec_link_count['non-real'], width=0.4, align='center', label='Non-real')\n",
    "ax.bar(data_by_sec_link_count.index - 0.2, data_by_sec_link_count['real'], width=0.4, align='center', label='Real')\n",
    "ax.autoscale(tight=True)\n",
    "ax.legend(loc='upper left', fontsize=20)\n",
    "ax.set_xlabel('# of links', fontsize=20)\n",
    "ax.set_ylabel('% Tweets', fontsize=20)"
   ]
  },
  {
   "cell_type": "markdown",
   "metadata": {},
   "source": [
    "Los links seguros (https), aunque son menos, pareciera que no indican nada significativo."
   ]
  }
 ],
 "metadata": {
  "kernelspec": {
   "display_name": "Python3-venv",
   "language": "python",
   "name": "python3-venv"
  },
  "language_info": {
   "codemirror_mode": {
    "name": "ipython",
    "version": 3
   },
   "file_extension": ".py",
   "mimetype": "text/x-python",
   "name": "python",
   "nbconvert_exporter": "python",
   "pygments_lexer": "ipython3",
   "version": "3.6.9"
  }
 },
 "nbformat": 4,
 "nbformat_minor": 4
}
